{
 "cells": [
  {
   "cell_type": "code",
   "execution_count": 3,
   "metadata": {},
   "outputs": [],
   "source": [
    "import gym\n",
    "import numpy as np\n",
    "import torch\n",
    "from torch import nn\n",
    "import matplotlib.pyplot as plt"
   ]
  },
  {
   "cell_type": "code",
   "execution_count": 36,
   "metadata": {},
   "outputs": [],
   "source": [
    "env = gym.make('CartPole-v0')\n",
    "n_episodes = 5000\n",
    "max_step = 1000"
   ]
  },
  {
   "cell_type": "code",
   "execution_count": 37,
   "metadata": {},
   "outputs": [],
   "source": [
    "device = 'cuda:0'\n",
    "policy_net = nn.Sequential(\n",
    "                    #nn.Linear(128, 128),\n",
    "                    #nn.LeakyReLU(0.01),\n",
    "                    nn.Linear(4, 64),\n",
    "                    nn.LeakyReLU(0.01),\n",
    "                    nn.Linear(64, 2),\n",
    "                    nn.Softmax()\n",
    "                    )\n",
    "policy_net.to(device)\n",
    "policy_optimizer = torch.optim.Adam(policy_net.parameters(), lr=3e-3)\n",
    "policy_scheduler = torch.optim.lr_scheduler.StepLR(policy_optimizer, 5, gamma=0.95)\n",
    "\n",
    "critic_net = nn.Sequential(\n",
    "                    #nn.Linear(128, 128),\n",
    "                    #nn.LeakyReLU(0.01),\n",
    "                    nn.Linear(4, 64),\n",
    "                    nn.LeakyReLU(0.01),\n",
    "                    nn.Linear(64, 1)\n",
    "                    )\n",
    "critic_net.to(device)\n",
    "critic_optimizer = torch.optim.Adam(critic_net.parameters(), lr=3e-3)\n",
    "critic_scheduler = torch.optim.lr_scheduler.StepLR(critic_optimizer, 5, gamma=0.95)"
   ]
  },
  {
   "cell_type": "code",
   "execution_count": 38,
   "metadata": {},
   "outputs": [],
   "source": [
    "total_rewards = []\n",
    "freq = max(n_episodes // 20, 1)"
   ]
  },
  {
   "cell_type": "code",
   "execution_count": 39,
   "metadata": {},
   "outputs": [],
   "source": [
    "eps = 0.0001"
   ]
  },
  {
   "cell_type": "code",
   "execution_count": 40,
   "metadata": {},
   "outputs": [
    {
     "name": "stdout",
     "output_type": "stream",
     "text": [
      "Episode: 0/5000 || Reward: 35.0  Steps: 35\n",
      "log grad: tensor(24.0564, device='cuda:0', grad_fn=<SubBackward0>)\n",
      "value grad tensor([-6.2765], device='cuda:0', grad_fn=<SubBackward0>)\n",
      "\n",
      "Episode: 250/5000 || Reward: 10.0  Steps: 10\n",
      "log grad: tensor(2.4448, device='cuda:0', grad_fn=<SubBackward0>)\n",
      "value grad tensor([-23.9234], device='cuda:0', grad_fn=<SubBackward0>)\n",
      "\n",
      "Episode: 500/5000 || Reward: 11.0  Steps: 11\n",
      "log grad: tensor(3.3496, device='cuda:0', grad_fn=<SubBackward0>)\n",
      "value grad tensor([-30.9956], device='cuda:0', grad_fn=<SubBackward0>)\n",
      "\n",
      "Episode: 750/5000 || Reward: 10.0  Steps: 10\n",
      "log grad: tensor(0.2246, device='cuda:0', grad_fn=<SubBackward0>)\n",
      "value grad tensor([-25.8212], device='cuda:0', grad_fn=<SubBackward0>)\n",
      "\n",
      "Episode: 1000/5000 || Reward: 8.0  Steps: 8\n",
      "log grad: tensor(0.1911, device='cuda:0', grad_fn=<SubBackward0>)\n",
      "value grad tensor([-15.5378], device='cuda:0', grad_fn=<SubBackward0>)\n",
      "\n",
      "Episode: 1250/5000 || Reward: 9.0  Steps: 9\n",
      "log grad: tensor(0.2054, device='cuda:0', grad_fn=<SubBackward0>)\n",
      "value grad tensor([-20.5975], device='cuda:0', grad_fn=<SubBackward0>)\n",
      "\n",
      "Episode: 1500/5000 || Reward: 10.0  Steps: 10\n",
      "log grad: tensor(0.2321, device='cuda:0', grad_fn=<SubBackward0>)\n",
      "value grad tensor([-25.8833], device='cuda:0', grad_fn=<SubBackward0>)\n",
      "\n",
      "Episode: 1750/5000 || Reward: 10.0  Steps: 10\n",
      "log grad: tensor(0.2314, device='cuda:0', grad_fn=<SubBackward0>)\n",
      "value grad tensor([-25.8366], device='cuda:0', grad_fn=<SubBackward0>)\n",
      "\n",
      "Episode: 2000/5000 || Reward: 10.0  Steps: 10\n",
      "log grad: tensor(0.2320, device='cuda:0', grad_fn=<SubBackward0>)\n",
      "value grad tensor([-25.8710], device='cuda:0', grad_fn=<SubBackward0>)\n",
      "\n",
      "Episode: 2250/5000 || Reward: 10.0  Steps: 10\n",
      "log grad: tensor(0.2242, device='cuda:0', grad_fn=<SubBackward0>)\n",
      "value grad tensor([-25.9004], device='cuda:0', grad_fn=<SubBackward0>)\n",
      "\n",
      "Episode: 2500/5000 || Reward: 10.0  Steps: 10\n",
      "log grad: tensor(0.2228, device='cuda:0', grad_fn=<SubBackward0>)\n",
      "value grad tensor([-25.8941], device='cuda:0', grad_fn=<SubBackward0>)\n",
      "\n",
      "Episode: 2750/5000 || Reward: 10.0  Steps: 10\n",
      "log grad: tensor(0.2312, device='cuda:0', grad_fn=<SubBackward0>)\n",
      "value grad tensor([-25.8327], device='cuda:0', grad_fn=<SubBackward0>)\n",
      "\n",
      "Episode: 3000/5000 || Reward: 9.0  Steps: 9\n",
      "log grad: tensor(0.2160, device='cuda:0', grad_fn=<SubBackward0>)\n",
      "value grad tensor([-20.5274], device='cuda:0', grad_fn=<SubBackward0>)\n",
      "\n",
      "Episode: 3250/5000 || Reward: 8.0  Steps: 8\n",
      "log grad: tensor(0.1973, device='cuda:0', grad_fn=<SubBackward0>)\n",
      "value grad tensor([-15.4276], device='cuda:0', grad_fn=<SubBackward0>)\n",
      "\n",
      "Episode: 3500/5000 || Reward: 10.0  Steps: 10\n",
      "log grad: tensor(0.2248, device='cuda:0', grad_fn=<SubBackward0>)\n",
      "value grad tensor([-25.8824], device='cuda:0', grad_fn=<SubBackward0>)\n",
      "\n",
      "Episode: 3750/5000 || Reward: 9.0  Steps: 9\n",
      "log grad: tensor(0.2074, device='cuda:0', grad_fn=<SubBackward0>)\n",
      "value grad tensor([-20.5907], device='cuda:0', grad_fn=<SubBackward0>)\n",
      "\n",
      "Episode: 4000/5000 || Reward: 10.0  Steps: 10\n",
      "log grad: tensor(0.2171, device='cuda:0', grad_fn=<SubBackward0>)\n",
      "value grad tensor([-25.8643], device='cuda:0', grad_fn=<SubBackward0>)\n",
      "\n",
      "Episode: 4250/5000 || Reward: 10.0  Steps: 10\n",
      "log grad: tensor(0.2249, device='cuda:0', grad_fn=<SubBackward0>)\n",
      "value grad tensor([-25.8800], device='cuda:0', grad_fn=<SubBackward0>)\n",
      "\n",
      "Episode: 4500/5000 || Reward: 9.0  Steps: 9\n",
      "log grad: tensor(0.2096, device='cuda:0', grad_fn=<SubBackward0>)\n",
      "value grad tensor([-20.5946], device='cuda:0', grad_fn=<SubBackward0>)\n",
      "\n",
      "Episode: 4750/5000 || Reward: 10.0  Steps: 10\n",
      "log grad: tensor(0.2364, device='cuda:0', grad_fn=<SubBackward0>)\n",
      "value grad tensor([-25.8397], device='cuda:0', grad_fn=<SubBackward0>)\n",
      "\n"
     ]
    }
   ],
   "source": [
    "for episode in range(n_episodes):\n",
    "    logs = []\n",
    "    rewards = []\n",
    "    values = []\n",
    "    state = torch.tensor(env.reset(), dtype=torch.float32).to(device)\n",
    "    for step in range(max_step):\n",
    "        policy = policy_net(state)\n",
    "        q = np.random.choice(np.arange(2), p=[eps, 1 - eps])\n",
    "        if q:\n",
    "            action = np.random.choice(np.arange(2), p=policy.cpu().detach().numpy())\n",
    "        else:\n",
    "            action = np.random.randint(2)\n",
    "        log = torch.log(policy[action] + 1e-6)\n",
    "        logs.append(log)\n",
    "        value = critic_net(state)\n",
    "        values.append(value)\n",
    "        state, reward, done, info = env.step(action)\n",
    "        state = torch.tensor(state, dtype=torch.float32).to(device)\n",
    "        rewards.append(reward)\n",
    "        if done:\n",
    "            break\n",
    "    T = len(rewards)\n",
    "    #print(rewards[-1])\n",
    "    total_rewards.append(np.sum(rewards))\n",
    "    values.append(torch.tensor([0], dtype=torch.float32))\n",
    "    G = []\n",
    "    for t in range(T):\n",
    "        g = rewards[t] + values[t + 1].cpu().detach().numpy()[0] - values[t].cpu().detach().numpy()[0]\n",
    "        G.append(g)\n",
    "        \n",
    "    log_grads = 0\n",
    "    for log, g in zip(logs, G):\n",
    "        log_grads -= g * log\n",
    "        \n",
    "    value_grads = 0\n",
    "    for value, g in zip(values, G):\n",
    "        value_grads -= g * value\n",
    "    \n",
    "    policy_optimizer.zero_grad()\n",
    "    log_grads.to(device).backward(retain_graph=True)\n",
    "    policy_optimizer.step()\n",
    "    policy_scheduler.step()\n",
    "    \n",
    "    critic_optimizer.zero_grad()\n",
    "    value_grads.to(device).backward()\n",
    "    critic_optimizer.step()\n",
    "    critic_scheduler.step()\n",
    "    \n",
    "    if not episode % freq:\n",
    "        print('Episode: {}/{} || Reward: {}  Steps: {}'.format(episode, n_episodes, total_rewards[-1], T))\n",
    "        print('log grad:', log_grads)\n",
    "        print('value grad', value_grads, end='\\n\\n')"
   ]
  },
  {
   "cell_type": "code",
   "execution_count": 41,
   "metadata": {},
   "outputs": [
    {
     "data": {
      "image/png": "[encoded data removed]",
      "text/plain": [
       "<Figure size 432x288 with 1 Axes>"
      ]
     },
     "metadata": {
      "needs_background": "light"
     },
     "output_type": "display_data"
    }
   ],
   "source": [
    "plt.plot(total_rewards);"
   ]
  },
  {
   "cell_type": "code",
   "execution_count": 42,
   "metadata": {},
   "outputs": [
    {
     "data": {
      "text/plain": [
       "9.7698"
      ]
     },
     "execution_count": 42,
     "metadata": {},
     "output_type": "execute_result"
    }
   ],
   "source": [
    "np.mean(total_rewards)"
   ]
  },
  {
   "cell_type": "code",
   "execution_count": null,
   "metadata": {},
   "outputs": [],
   "source": []
  }
 ],
 "metadata": {
  "kernelspec": {
   "display_name": "Python 3",
   "language": "python",
   "name": "python3"
  },
  "language_info": {
   "codemirror_mode": {
    "name": "ipython",
    "version": 3
   },
   "file_extension": ".py",
   "mimetype": "text/x-python",
   "name": "python",
   "nbconvert_exporter": "python",
   "pygments_lexer": "ipython3",
   "version": "3.7.3"
  }
 },
 "nbformat": 4,
 "nbformat_minor": 2
}
