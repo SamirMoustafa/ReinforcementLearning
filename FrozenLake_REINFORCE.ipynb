{
 "cells": [
  {
   "cell_type": "code",
   "execution_count": 1,
   "metadata": {},
   "outputs": [],
   "source": [
    "import numpy as np\n",
    "import matplotlib.pyplot as plt"
   ]
  },
  {
   "cell_type": "code",
   "execution_count": 2,
   "metadata": {},
   "outputs": [],
   "source": [
    "actions = [(-1, 0), (0, 1), (1, 0), (0, -1)]"
   ]
  },
  {
   "cell_type": "code",
   "execution_count": 3,
   "metadata": {},
   "outputs": [],
   "source": [
    "def check_map(lake):\n",
    "    q = [(0, 0)]\n",
    "    visited = []\n",
    "    while q:\n",
    "        x, y = q.pop()\n",
    "        visited.append((x, y))\n",
    "        for dx, dy in actions:\n",
    "            if (0 <= x + dx < lake.shape[0]) and (0 <= y + dy < lake.shape[1]):\n",
    "                if (x + dx == lake.shape[0] - 1) and (y + dy == lake.shape[1] - 1):\n",
    "                    return True\n",
    "                if lake[x + dx, y + dy] and (x + dx, y + dy) not in visited:\n",
    "                    q.append((x + dx, y + dy))\n",
    "    return False"
   ]
  },
  {
   "cell_type": "code",
   "execution_count": 4,
   "metadata": {},
   "outputs": [],
   "source": [
    "def generate_map(size=(5, 5), p=0.8):\n",
    "    b = False\n",
    "    while not b:\n",
    "        lake = np.random.binomial(1, p, size)\n",
    "        lake[0, 0] = 1\n",
    "        lake[-1, -1] = 1\n",
    "        b = check_map(lake)\n",
    "    return lake"
   ]
  },
  {
   "cell_type": "code",
   "execution_count": 5,
   "metadata": {},
   "outputs": [],
   "source": [
    "def softmax(x):\n",
    "    e_x = np.exp(x - np.max(x))\n",
    "    return e_x / e_x.sum()"
   ]
  },
  {
   "cell_type": "code",
   "execution_count": 21,
   "metadata": {},
   "outputs": [],
   "source": [
    "lake = generate_map()\n",
    "theta = np.zeros(lake.shape + (4,))"
   ]
  },
  {
   "cell_type": "code",
   "execution_count": 22,
   "metadata": {},
   "outputs": [],
   "source": [
    "def policy(s):\n",
    "    x, y = s\n",
    "    return softmax(theta[x, y, :])"
   ]
  },
  {
   "cell_type": "code",
   "execution_count": 23,
   "metadata": {},
   "outputs": [],
   "source": [
    "n_epoches = 10000\n",
    "T = 100\n",
    "alpha = 0.1\n",
    "rewards = []"
   ]
  },
  {
   "cell_type": "code",
   "execution_count": 24,
   "metadata": {},
   "outputs": [],
   "source": [
    "for _ in range(n_epoches):\n",
    "    s = (0, 0)\n",
    "    t = 0\n",
    "    reward = 0\n",
    "    states = []\n",
    "    acts = []\n",
    "    while t < T:\n",
    "        states.append(s)\n",
    "        x, y = s\n",
    "        action_idx = np.random.choice(range(len(actions)), p=policy(s))\n",
    "        acts.append(action_idx)\n",
    "        dx, dy = actions[action_idx]\n",
    "        if (0 <= x + dx < lake.shape[0]) and (0 <= y + dy < lake.shape[1]):\n",
    "            if (x + dx == lake.shape[0] - 1) and (y + dy == lake.shape[1] - 1):\n",
    "                reward = 1\n",
    "                break\n",
    "            elif not lake[x + dx, y + dy]:\n",
    "                reward = -1\n",
    "                break\n",
    "            else:\n",
    "                s = (x + dx, y + dy)\n",
    "        t += 1\n",
    "    if reward:\n",
    "        for s, action_idx in zip(states, acts):\n",
    "            theta[s[0], s[1], action_idx] += alpha * reward * (1 - policy(s)[action_idx])\n",
    "    rewards.append(reward)"
   ]
  },
  {
   "cell_type": "code",
   "execution_count": 25,
   "metadata": {},
   "outputs": [],
   "source": [
    "from collections import Counter"
   ]
  },
  {
   "cell_type": "code",
   "execution_count": 26,
   "metadata": {},
   "outputs": [],
   "source": [
    "c = Counter()\n",
    "for r in rewards:\n",
    "    c[r] += 1"
   ]
  },
  {
   "cell_type": "code",
   "execution_count": 27,
   "metadata": {},
   "outputs": [
    {
     "data": {
      "text/plain": [
       "Counter({-1: 531, 1: 9469})"
      ]
     },
     "execution_count": 27,
     "metadata": {},
     "output_type": "execute_result"
    }
   ],
   "source": [
    "c"
   ]
  },
  {
   "cell_type": "code",
   "execution_count": 28,
   "metadata": {},
   "outputs": [
    {
     "data": {
      "text/plain": [
       "array([[[-1.92479450e+01, -2.27244352e+01,  2.73542609e+01,\n",
       "          2.38984808e+01],\n",
       "        [ 0.00000000e+00,  0.00000000e+00,  0.00000000e+00,\n",
       "          0.00000000e+00],\n",
       "        [ 0.00000000e+00,  0.00000000e+00,  0.00000000e+00,\n",
       "          0.00000000e+00],\n",
       "        [-2.98204206e-01, -7.20681899e-02,  4.56416429e-01,\n",
       "         -6.25763211e-01],\n",
       "        [-2.21295018e-01,  1.46001635e-01, -7.15381273e-02,\n",
       "         -2.01404243e-01]],\n",
       "\n",
       "       [[-7.67815912e+00,  2.59065665e+01, -9.23799222e+00,\n",
       "          2.22325102e+01],\n",
       "        [-3.50845935e+00,  6.05750572e+01,  6.29985733e+01,\n",
       "         -9.09999111e-01],\n",
       "        [-1.85191270e+00,  7.45796105e+00,  9.62058337e+00,\n",
       "         -3.56613832e-01],\n",
       "        [ 1.57318277e-01,  1.29601852e+00,  3.35195795e+00,\n",
       "          3.84661260e-01],\n",
       "        [-2.04652566e-01, -9.51819221e-02,  1.99385956e+00,\n",
       "          1.71303636e+00]],\n",
       "\n",
       "       [[ 0.00000000e+00,  0.00000000e+00,  0.00000000e+00,\n",
       "          0.00000000e+00],\n",
       "        [ 2.84991655e-01,  8.88640323e+01,  9.17853882e+01,\n",
       "         -1.90168553e+00],\n",
       "        [ 1.41215416e+00,  2.61552639e+01,  2.43521530e-01,\n",
       "          2.38129481e+01],\n",
       "        [ 3.30405559e-01,  1.79417602e+01,  1.98727764e+01,\n",
       "          9.05783739e-01],\n",
       "        [ 3.64578758e+00,  8.75084000e+00,  9.55058673e+00,\n",
       "          4.90378198e-01]],\n",
       "\n",
       "       [[-1.19141932e+00,  1.32256590e+00,  1.25340668e+00,\n",
       "          9.22100295e-01],\n",
       "        [ 5.91883874e-02,  7.31056391e+00,  1.25040573e+01,\n",
       "          2.23906862e+00],\n",
       "        [ 1.49054149e+00,  1.67095272e+00,  2.19356251e+00,\n",
       "          1.94615861e+00],\n",
       "        [ 2.80564616e+00,  1.21596987e+01,  1.59092746e+01,\n",
       "          1.63621165e+00],\n",
       "        [ 1.49199449e+00,  2.29147114e+00,  5.69996580e+00,\n",
       "          1.01838040e+00]],\n",
       "\n",
       "       [[-4.23060398e-02,  3.61056613e+00,  3.99096851e+00,\n",
       "          1.64096588e+00],\n",
       "        [ 2.15607799e+00,  1.15685414e+02,  1.11166255e+02,\n",
       "          2.73599056e+00],\n",
       "        [ 1.66028572e-01,  2.23627225e+02,  2.20713213e+02,\n",
       "          3.57289239e-01],\n",
       "        [ 1.18906600e+02,  1.22738389e+02,  3.30301153e+00,\n",
       "          7.39935889e-01],\n",
       "        [ 0.00000000e+00,  0.00000000e+00,  0.00000000e+00,\n",
       "          0.00000000e+00]]])"
      ]
     },
     "execution_count": 28,
     "metadata": {},
     "output_type": "execute_result"
    }
   ],
   "source": [
    "theta"
   ]
  },
  {
   "cell_type": "code",
   "execution_count": 29,
   "metadata": {},
   "outputs": [],
   "source": [
    "rewards_np = (np.array(rewards) + 1) / 2"
   ]
  },
  {
   "cell_type": "code",
   "execution_count": 30,
   "metadata": {},
   "outputs": [],
   "source": [
    "cum_rewards = np.cumsum(rewards_np) / (np.arange(len(rewards)) + 1)"
   ]
  },
  {
   "cell_type": "code",
   "execution_count": 31,
   "metadata": {},
   "outputs": [
    {
     "data": {
      "image/png": "[encoded data removed]",
      "text/plain": [
       "<Figure size 432x288 with 1 Axes>"
      ]
     },
     "metadata": {
      "needs_background": "light"
     },
     "output_type": "display_data"
    }
   ],
   "source": [
    "plt.plot(range(1, len(rewards) + 1), cum_rewards);"
   ]
  }
 ],
 "metadata": {
  "kernelspec": {
   "display_name": "Python 3",
   "language": "python",
   "name": "python3"
  },
  "language_info": {
   "codemirror_mode": {
    "name": "ipython",
    "version": 3
   },
   "file_extension": ".py",
   "mimetype": "text/x-python",
   "name": "python",
   "nbconvert_exporter": "python",
   "pygments_lexer": "ipython3",
   "version": "3.7.3"
  }
 },
 "nbformat": 4,
 "nbformat_minor": 2
}
