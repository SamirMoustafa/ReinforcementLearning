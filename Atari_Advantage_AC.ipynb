{
 "cells": [
  {
   "cell_type": "code",
   "execution_count": 2,
   "metadata": {},
   "outputs": [],
   "source": [
    "import gym\n",
    "import numpy as np\n",
    "import torch\n",
    "from torch import nn\n",
    "import matplotlib.pyplot as plt"
   ]
  },
  {
   "cell_type": "code",
   "execution_count": 3,
   "metadata": {},
   "outputs": [],
   "source": [
    "env = gym.make('Asterix-ram-v0')\n",
    "n_episodes = 2000\n",
    "max_step = 1000"
   ]
  },
  {
   "cell_type": "code",
   "execution_count": 4,
   "metadata": {},
   "outputs": [],
   "source": [
    "device = 'cuda:0'\n",
    "policy_net = nn.Sequential(\n",
    "                    #nn.Linear(128, 128),\n",
    "                    #nn.LeakyReLU(0.01),\n",
    "                    nn.Linear(128, 64),\n",
    "                    nn.LeakyReLU(0.01),\n",
    "                    nn.Linear(64, 9),\n",
    "                    nn.Softmax()\n",
    "                    )\n",
    "policy_net.to(device)\n",
    "policy_optimizer = torch.optim.Adam(policy_net.parameters(), lr=3e-3)\n",
    "policy_scheduler = torch.optim.lr_scheduler.StepLR(policy_optimizer, 50, gamma=0.95)\n",
    "\n",
    "critic_net = nn.Sequential(\n",
    "                    #nn.Linear(128, 128),\n",
    "                    #nn.LeakyReLU(0.01),\n",
    "                    nn.Linear(128, 64),\n",
    "                    nn.LeakyReLU(0.01),\n",
    "                    nn.Linear(64, 1)\n",
    "                    )\n",
    "critic_net.to(device)\n",
    "critic_optimizer = torch.optim.Adam(critic_net.parameters(), lr=3e-3)\n",
    "critic_scheduler = torch.optim.lr_scheduler.StepLR(critic_optimizer, 50, gamma=0.95)"
   ]
  },
  {
   "cell_type": "code",
   "execution_count": 5,
   "metadata": {},
   "outputs": [],
   "source": [
    "total_rewards = []\n",
    "freq = max(n_episodes // 20, 1)"
   ]
  },
  {
   "cell_type": "code",
   "execution_count": 6,
   "metadata": {},
   "outputs": [],
   "source": [
    "eps = 0.1"
   ]
  },
  {
   "cell_type": "code",
   "execution_count": 7,
   "metadata": {},
   "outputs": [
    {
     "name": "stderr",
     "output_type": "stream",
     "text": [
      "/home/smomitya/anaconda3/lib/python3.7/site-packages/torch/nn/modules/container.py:92: UserWarning: Implicit dimension choice for softmax has been deprecated. Change the call to include dim=X as an argument.\n",
      "  input = module(input)\n"
     ]
    },
    {
     "name": "stdout",
     "output_type": "stream",
     "text": [
      "Episode: 0/2000 || Reward: 50.0  Steps: 290\n",
      "loss: tensor(98548944., grad_fn=<AddBackward0>)\n",
      "\n",
      "Episode: 100/2000 || Reward: 200.0  Steps: 461\n",
      "loss: tensor(6.7356e+08, grad_fn=<AddBackward0>)\n",
      "\n",
      "Episode: 200/2000 || Reward: 200.0  Steps: 444\n",
      "loss: tensor(6.9262e+08, grad_fn=<AddBackward0>)\n",
      "\n",
      "Episode: 300/2000 || Reward: 150.0  Steps: 433\n",
      "loss: tensor(1.4456e+08, grad_fn=<AddBackward0>)\n",
      "\n",
      "Episode: 400/2000 || Reward: 100.0  Steps: 290\n",
      "loss: tensor(5.1221e+08, grad_fn=<AddBackward0>)\n",
      "\n",
      "Episode: 500/2000 || Reward: 50.0  Steps: 291\n",
      "loss: tensor(2.4654e+08, grad_fn=<AddBackward0>)\n",
      "\n",
      "Episode: 600/2000 || Reward: 300.0  Steps: 548\n",
      "loss: tensor(1.6233e+09, grad_fn=<AddBackward0>)\n",
      "\n",
      "Episode: 700/2000 || Reward: 200.0  Steps: 414\n",
      "loss: tensor(3.4648e+08, grad_fn=<AddBackward0>)\n",
      "\n",
      "Episode: 800/2000 || Reward: 100.0  Steps: 435\n",
      "loss: tensor(9.8828e+08, grad_fn=<AddBackward0>)\n",
      "\n",
      "Episode: 900/2000 || Reward: 150.0  Steps: 469\n",
      "loss: tensor(4.2204e+08, grad_fn=<AddBackward0>)\n",
      "\n",
      "Episode: 1000/2000 || Reward: 100.0  Steps: 282\n",
      "loss: tensor(4.6093e+08, grad_fn=<AddBackward0>)\n",
      "\n",
      "Episode: 1100/2000 || Reward: 100.0  Steps: 479\n",
      "loss: tensor(8.8508e+08, grad_fn=<AddBackward0>)\n",
      "\n",
      "Episode: 1200/2000 || Reward: 200.0  Steps: 587\n",
      "loss: tensor(1.1370e+09, grad_fn=<AddBackward0>)\n",
      "\n",
      "Episode: 1300/2000 || Reward: 250.0  Steps: 469\n",
      "loss: tensor(7.1678e+08, grad_fn=<AddBackward0>)\n",
      "\n",
      "Episode: 1400/2000 || Reward: 100.0  Steps: 377\n",
      "loss: tensor(3.8599e+08, grad_fn=<AddBackward0>)\n",
      "\n",
      "Episode: 1500/2000 || Reward: 50.0  Steps: 294\n",
      "loss: tensor(3.5006e+08, grad_fn=<AddBackward0>)\n",
      "\n",
      "Episode: 1600/2000 || Reward: 200.0  Steps: 463\n",
      "loss: tensor(6.9238e+08, grad_fn=<AddBackward0>)\n",
      "\n",
      "Episode: 1700/2000 || Reward: 500.0  Steps: 857\n",
      "loss: tensor(1.3423e+10, grad_fn=<AddBackward0>)\n",
      "\n",
      "Episode: 1800/2000 || Reward: 150.0  Steps: 421\n",
      "loss: tensor(2.8171e+08, grad_fn=<AddBackward0>)\n",
      "\n",
      "Episode: 1900/2000 || Reward: 100.0  Steps: 334\n",
      "loss: tensor(1.6368e+08, grad_fn=<AddBackward0>)\n",
      "\n"
     ]
    }
   ],
   "source": [
    "for episode in range(n_episodes):\n",
    "    logs = []\n",
    "    rewards = []\n",
    "    values = []\n",
    "    state = torch.tensor(env.reset(), dtype=torch.float32).to(device)\n",
    "    for step in range(max_step):\n",
    "        policy = policy_net(state)\n",
    "        q = np.random.choice(np.arange(2), p=[eps, 1 - eps])\n",
    "        if q:\n",
    "            action = np.random.choice(np.arange(9), p=policy.cpu().detach().numpy())\n",
    "        else:\n",
    "            action = np.random.randint(9)\n",
    "        log = torch.log(policy[action] + 1e-6)\n",
    "        logs.append(log)\n",
    "        value = critic_net(state)\n",
    "        values.append(value)\n",
    "        state, reward, done, info = env.step(action)\n",
    "        state = torch.tensor(state, dtype=torch.float32).to(device)\n",
    "        rewards.append(reward)\n",
    "        if done:\n",
    "            break\n",
    "    T = len(rewards)\n",
    "    #print(rewards[-1])\n",
    "    total_rewards.append(np.sum(rewards))\n",
    "    values.append(torch.tensor([0], dtype=torch.float32))\n",
    "    #G = []\n",
    "    G = np.zeros_like(rewards)\n",
    "    Qval = 0.0\n",
    "    for t in reversed(range(len(rewards))):\n",
    "        Qval = rewards[t] + Qval\n",
    "        G[t] = Qval\n",
    "        \n",
    "    values = torch.stack(values)\n",
    "    G = torch.FloatTensor(G)\n",
    "    logs = torch.stack(logs)\n",
    "        \n",
    "    #for t in range(T):\n",
    "        #g = rewards[t] + values[t + 1].cpu().detach().numpy()[0] - values[t].cpu().detach().numpy()[0]\n",
    "        #G.append(g)\n",
    "        \n",
    "    advantage = G - values\n",
    "    \n",
    "    critic_loss = 0.5*advantage.pow(2).sum()\n",
    "    #print(critic_loss)\n",
    "    actor_loss = -(logs*advantage).sum()\n",
    "    \n",
    "    \n",
    "    policy_optimizer.zero_grad()\n",
    "    critic_optimizer.zero_grad()\n",
    "    loss = actor_loss + critic_loss\n",
    "    #print(loss)\n",
    "    loss.to(device).backward()\n",
    "    policy_optimizer.step()\n",
    "    policy_scheduler.step()\n",
    "    critic_optimizer.step()\n",
    "    critic_scheduler.step()\n",
    "    \n",
    "    if not episode % freq:\n",
    "        print('Episode: {}/{} || Reward: {}  Steps: {}'.format(episode, n_episodes, total_rewards[-1], T))\n",
    "        print('loss:', loss, end = '\\n\\n')\n",
    "        #print('value grad', value_grads, end='\\n\\n')"
   ]
  },
  {
   "cell_type": "code",
   "execution_count": 8,
   "metadata": {},
   "outputs": [
    {
     "data": {
      "image/png": "[encoded data removed]",
      "text/plain": [
       "<Figure size 432x288 with 1 Axes>"
      ]
     },
     "metadata": {
      "needs_background": "light"
     },
     "output_type": "display_data"
    }
   ],
   "source": [
    "plt.plot(total_rewards);"
   ]
  },
  {
   "cell_type": "code",
   "execution_count": 9,
   "metadata": {},
   "outputs": [
    {
     "data": {
      "text/plain": [
       "171.775"
      ]
     },
     "execution_count": 9,
     "metadata": {},
     "output_type": "execute_result"
    }
   ],
   "source": [
    "np.mean(total_rewards)"
   ]
  },
  {
   "cell_type": "code",
   "execution_count": null,
   "metadata": {},
   "outputs": [],
   "source": []
  }
 ],
 "metadata": {
  "kernelspec": {
   "display_name": "Python 3",
   "language": "python",
   "name": "python3"
  },
  "language_info": {
   "codemirror_mode": {
    "name": "ipython",
    "version": 3
   },
   "file_extension": ".py",
   "mimetype": "text/x-python",
   "name": "python",
   "nbconvert_exporter": "python",
   "pygments_lexer": "ipython3",
   "version": "3.7.3"
  }
 },
 "nbformat": 4,
 "nbformat_minor": 2
}
