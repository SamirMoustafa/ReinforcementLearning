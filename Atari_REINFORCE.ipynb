{
 "cells": [
  {
   "cell_type": "code",
   "execution_count": 35,
   "metadata": {},
   "outputs": [],
   "source": [
    "import gym\n",
    "import numpy as np\n",
    "import pyglet\n",
    "import time\n",
    "import torch\n",
    "from torch import nn\n",
    "import matplotlib.pyplot as plt"
   ]
  },
  {
   "cell_type": "code",
   "execution_count": 36,
   "metadata": {},
   "outputs": [],
   "source": [
    "env = gym.make('Asterix-ram-v0')\n",
    "gamma = 1\n",
    "n_episodes = 200\n",
    "max_step = 10000\n",
    "eps = 0.001\n",
    "gamma_pwr = gamma ** np.arange(max_step)"
   ]
  },
  {
   "cell_type": "code",
   "execution_count": 37,
   "metadata": {},
   "outputs": [],
   "source": [
    "device = 'cuda:0'\n",
    "net = nn.Sequential(\n",
    "                    #nn.Linear(128, 128),\n",
    "                    #nn.LeakyReLU(0.01),\n",
    "                    nn.Linear(128, 64),\n",
    "                    nn.LeakyReLU(0.01),\n",
    "                    nn.Linear(64, 9),\n",
    "                    nn.Softmax()\n",
    "                    )\n",
    "net.to(device)\n",
    "optimizer = torch.optim.Adam(net.parameters(), lr=3e-3)\n",
    "scheduler = torch.optim.lr_scheduler.StepLR(optimizer, 5, gamma=0.95)"
   ]
  },
  {
   "cell_type": "code",
   "execution_count": 38,
   "metadata": {},
   "outputs": [],
   "source": [
    "total_rewards = []\n",
    "freq = max(n_episodes // 20, 1)"
   ]
  },
  {
   "cell_type": "code",
   "execution_count": 40,
   "metadata": {},
   "outputs": [
    {
     "name": "stdout",
     "output_type": "stream",
     "text": [
      "Episode: 0/200 || Reward: 600.0  Steps: 1813\n",
      "grad: tensor(68985.8047, device='cuda:0', grad_fn=<SubBackward0>)\n",
      "Episode: 10/200 || Reward: 200.0  Steps: 753\n",
      "grad: tensor(-0.0533, device='cuda:0', grad_fn=<SubBackward0>)\n",
      "Episode: 20/200 || Reward: 200.0  Steps: 751\n",
      "grad: tensor(-0.0536, device='cuda:0', grad_fn=<SubBackward0>)\n",
      "Episode: 30/200 || Reward: 200.0  Steps: 765\n",
      "grad: tensor(1381.5037, device='cuda:0', grad_fn=<SubBackward0>)\n",
      "Episode: 40/200 || Reward: 200.0  Steps: 760\n",
      "grad: tensor(-0.0535, device='cuda:0', grad_fn=<SubBackward0>)\n",
      "Episode: 50/200 || Reward: 200.0  Steps: 771\n",
      "grad: tensor(-0.0540, device='cuda:0', grad_fn=<SubBackward0>)\n",
      "Episode: 60/200 || Reward: 150.0  Steps: 573\n",
      "grad: tensor(690.7488, device='cuda:0', grad_fn=<SubBackward0>)\n",
      "Episode: 70/200 || Reward: 200.0  Steps: 783\n",
      "grad: tensor(-0.0552, device='cuda:0', grad_fn=<SubBackward0>)\n",
      "Episode: 80/200 || Reward: 200.0  Steps: 708\n",
      "grad: tensor(1381.5096, device='cuda:0', grad_fn=<SubBackward0>)\n",
      "Episode: 90/200 || Reward: 200.0  Steps: 807\n",
      "grad: tensor(-0.0560, device='cuda:0', grad_fn=<SubBackward0>)\n",
      "Episode: 100/200 || Reward: 700.0  Steps: 2099\n",
      "grad: tensor(9670.4443, device='cuda:0', grad_fn=<SubBackward0>)\n",
      "Episode: 110/200 || Reward: 200.0  Steps: 764\n",
      "grad: tensor(690.7186, device='cuda:0', grad_fn=<SubBackward0>)\n",
      "Episode: 120/200 || Reward: 200.0  Steps: 769\n",
      "grad: tensor(-0.0553, device='cuda:0', grad_fn=<SubBackward0>)\n",
      "Episode: 130/200 || Reward: 200.0  Steps: 751\n",
      "grad: tensor(-0.0528, device='cuda:0', grad_fn=<SubBackward0>)\n",
      "Episode: 140/200 || Reward: 200.0  Steps: 778\n",
      "grad: tensor(1381.5010, device='cuda:0', grad_fn=<SubBackward0>)\n",
      "Episode: 150/200 || Reward: 200.0  Steps: 761\n",
      "grad: tensor(-0.0535, device='cuda:0', grad_fn=<SubBackward0>)\n",
      "Episode: 160/200 || Reward: 200.0  Steps: 702\n",
      "grad: tensor(-0.0544, device='cuda:0', grad_fn=<SubBackward0>)\n",
      "Episode: 170/200 || Reward: 200.0  Steps: 699\n",
      "grad: tensor(2072.2793, device='cuda:0', grad_fn=<SubBackward0>)\n",
      "Episode: 180/200 || Reward: 500.0  Steps: 1539\n",
      "grad: tensor(7598.2456, device='cuda:0', grad_fn=<SubBackward0>)\n",
      "Episode: 190/200 || Reward: 200.0  Steps: 763\n",
      "grad: tensor(-0.0542, device='cuda:0', grad_fn=<SubBackward0>)\n"
     ]
    }
   ],
   "source": [
    "for episode in range(n_episodes):\n",
    "    state = torch.tensor(env.reset(), dtype=torch.float32).to(device)\n",
    "    logs = []\n",
    "    rewards = []\n",
    "    for step in range(max_step):\n",
    "        policy = net(state)\n",
    "        #if step % 1000 == 0:\n",
    "        #    print('max policy:', max(policy))\n",
    "        q = np.random.choice(np.arange(2), p=[eps, 1 - eps])\n",
    "        if q:\n",
    "            action = np.random.choice(np.arange(9), p=policy.cpu().detach().numpy())\n",
    "        else:\n",
    "            action = np.random.randint(9)\n",
    "        log = torch.log(policy[action] + 1e-6)\n",
    "        #print(log)\n",
    "        logs.append(log)\n",
    "        state, reward, done, info = env.step(action)\n",
    "        state = torch.tensor(state, dtype=torch.float32).to(device)\n",
    "        \n",
    "        rewards.append(reward)\n",
    "        if done:\n",
    "            break\n",
    "    T = len(rewards)\n",
    "    #print(rewards[-1])\n",
    "    rewards = np.array(rewards)\n",
    "    total_rewards.append(rewards.sum())\n",
    "    G = []\n",
    "    for t in range(T):\n",
    "        g = (gamma_pwr[t:T] * rewards[t:]).sum()\n",
    "        G.append(g)\n",
    "    grads = 0\n",
    "    for log, g in zip(logs, G):\n",
    "        grads -= g * log\n",
    "    \n",
    "    optimizer.zero_grad()\n",
    "    grads.to(device).backward()\n",
    "    optimizer.step()\n",
    "    scheduler.step()\n",
    "    if not episode % freq:\n",
    "        print('Episode: {}/{} || Reward: {}  Steps: {}'.format(episode, n_episodes, total_rewards[-1], T))\n",
    "        print('grad:', grads)"
   ]
  },
  {
   "cell_type": "code",
   "execution_count": 41,
   "metadata": {},
   "outputs": [
    {
     "data": {
      "image/png": "[encoded data removed]",
      "text/plain": [
       "<Figure size 432x288 with 1 Axes>"
      ]
     },
     "metadata": {
      "needs_background": "light"
     },
     "output_type": "display_data"
    }
   ],
   "source": [
    "plt.plot(total_rewards);"
   ]
  },
  {
   "cell_type": "code",
   "execution_count": 42,
   "metadata": {},
   "outputs": [
    {
     "data": {
      "text/plain": [
       "233.75"
      ]
     },
     "execution_count": 42,
     "metadata": {},
     "output_type": "execute_result"
    }
   ],
   "source": [
    "np.mean(total_rewards)"
   ]
  },
  {
   "cell_type": "code",
   "execution_count": 43,
   "metadata": {},
   "outputs": [
    {
     "data": {
      "text/plain": [
       "Parameter containing:\n",
       "tensor([[ 0.0047,  0.0158,  0.0335,  ...,  0.0541,  0.0292, -0.0550],\n",
       "        [ 0.0779,  0.0777,  0.0394,  ..., -0.0008,  0.0239, -0.0474],\n",
       "        [-0.0054,  0.0203, -0.0349,  ..., -0.0091, -0.0544, -0.0811],\n",
       "        ...,\n",
       "        [-0.0703,  0.0823, -0.0357,  ...,  0.0327, -0.0178, -0.0854],\n",
       "        [-0.0280,  0.0341,  0.0460,  ...,  0.0220, -0.0559, -0.0292],\n",
       "        [ 0.0234,  0.0067,  0.0537,  ..., -0.0366, -0.1019, -0.0085]],\n",
       "       device='cuda:0', requires_grad=True)"
      ]
     },
     "execution_count": 43,
     "metadata": {},
     "output_type": "execute_result"
    }
   ],
   "source": [
    "next(net.parameters())"
   ]
  }
 ],
 "metadata": {
  "kernelspec": {
   "display_name": "Python 3",
   "language": "python",
   "name": "python3"
  },
  "language_info": {
   "codemirror_mode": {
    "name": "ipython",
    "version": 3
   },
   "file_extension": ".py",
   "mimetype": "text/x-python",
   "name": "python",
   "nbconvert_exporter": "python",
   "pygments_lexer": "ipython3",
   "version": "3.7.3"
  }
 },
 "nbformat": 4,
 "nbformat_minor": 2
}
