{
 "cells": [
  {
   "cell_type": "code",
   "execution_count": 1,
   "metadata": {},
   "outputs": [],
   "source": [
    "import gym\n",
    "import numpy as np\n",
    "import torch\n",
    "from torch import nn\n",
    "import matplotlib.pyplot as plt"
   ]
  },
  {
   "cell_type": "code",
   "execution_count": 21,
   "metadata": {},
   "outputs": [],
   "source": [
    "env = gym.make('Asterix-ram-v0')\n",
    "n_episodes = 100\n",
    "max_step = 2000\n",
    "eps = 0.001"
   ]
  },
  {
   "cell_type": "code",
   "execution_count": 25,
   "metadata": {},
   "outputs": [],
   "source": [
    "device = 'cuda:0'\n",
    "policy_net = nn.Sequential(\n",
    "                    #nn.Linear(128, 128),\n",
    "                    #nn.LeakyReLU(0.01),\n",
    "                    nn.Linear(128, 64),\n",
    "                    nn.LeakyReLU(0.01),\n",
    "                    nn.Linear(64, 9),\n",
    "                    nn.Softmax()\n",
    "                    )\n",
    "policy_net.to(device)\n",
    "policy_optimizer = torch.optim.Adam(policy_net.parameters(), lr=3e-3)\n",
    "policy_scheduler = torch.optim.lr_scheduler.StepLR(policy_optimizer, 5, gamma=0.95)\n",
    "\n",
    "value_net = nn.Sequential(\n",
    "                    #nn.Linear(128, 128),\n",
    "                    #nn.LeakyReLU(0.01),\n",
    "                    nn.Linear(128, 64),\n",
    "                    nn.LeakyReLU(0.01),\n",
    "                    nn.Linear(64, 1)\n",
    "                    )\n",
    "value_net.to(device)\n",
    "value_optimizer = torch.optim.Adam(value_net.parameters(), lr=3e-3)\n",
    "value_scheduler = torch.optim.lr_scheduler.StepLR(value_optimizer, 5, gamma=0.95)"
   ]
  },
  {
   "cell_type": "code",
   "execution_count": 26,
   "metadata": {},
   "outputs": [],
   "source": [
    "total_rewards = []\n",
    "freq = max(n_episodes // 20, 1)"
   ]
  },
  {
   "cell_type": "code",
   "execution_count": 28,
   "metadata": {},
   "outputs": [
    {
     "name": "stdout",
     "output_type": "stream",
     "text": [
      "Episode: 0/100 || Reward: 50.0  Steps: 293\n",
      "log grad: tensor(319.3661, device='cuda:0', grad_fn=<SubBackward0>)\n",
      "value grad tensor([-698.2320], device='cuda:0', grad_fn=<SubBackward0>)\n",
      "\n",
      "Episode: 5/100 || Reward: 200.0  Steps: 757\n",
      "log grad: tensor(0.0198, device='cuda:0', grad_fn=<SubBackward0>)\n",
      "value grad tensor([2129123.5000], device='cuda:0', grad_fn=<SubBackward0>)\n",
      "\n",
      "Episode: 10/100 || Reward: 200.0  Steps: 768\n",
      "log grad: tensor(0.0307, device='cuda:0', grad_fn=<SubBackward0>)\n",
      "value grad tensor([3717976.], device='cuda:0', grad_fn=<SubBackward0>)\n",
      "\n",
      "Episode: 15/100 || Reward: 200.0  Steps: 762\n",
      "log grad: tensor(0.0167, device='cuda:0', grad_fn=<SubBackward0>)\n",
      "value grad tensor([1648764.5000], device='cuda:0', grad_fn=<SubBackward0>)\n",
      "\n",
      "Episode: 20/100 || Reward: 200.0  Steps: 761\n",
      "log grad: tensor(-0.0057, device='cuda:0', grad_fn=<SubBackward0>)\n",
      "value grad tensor([-510225.4688], device='cuda:0', grad_fn=<SubBackward0>)\n",
      "\n",
      "Episode: 25/100 || Reward: 200.0  Steps: 772\n",
      "log grad: tensor(-0.0133, device='cuda:0', grad_fn=<SubBackward0>)\n",
      "value grad tensor([-929115.3750], device='cuda:0', grad_fn=<SubBackward0>)\n",
      "\n",
      "Episode: 30/100 || Reward: 200.0  Steps: 762\n",
      "log grad: tensor(-0.0048, device='cuda:0', grad_fn=<SubBackward0>)\n",
      "value grad tensor([-527692.4375], device='cuda:0', grad_fn=<SubBackward0>)\n",
      "\n",
      "Episode: 35/100 || Reward: 200.0  Steps: 771\n",
      "log grad: tensor(0.0054, device='cuda:0', grad_fn=<SubBackward0>)\n",
      "value grad tensor([275074.4688], device='cuda:0', grad_fn=<SubBackward0>)\n",
      "\n",
      "Episode: 40/100 || Reward: 200.0  Steps: 764\n",
      "log grad: tensor(0.0050, device='cuda:0', grad_fn=<SubBackward0>)\n",
      "value grad tensor([214060.6875], device='cuda:0', grad_fn=<SubBackward0>)\n",
      "\n",
      "Episode: 45/100 || Reward: 200.0  Steps: 759\n",
      "log grad: tensor(-0.0026, device='cuda:0', grad_fn=<SubBackward0>)\n",
      "value grad tensor([-447713.9062], device='cuda:0', grad_fn=<SubBackward0>)\n",
      "\n",
      "Episode: 50/100 || Reward: 200.0  Steps: 750\n",
      "log grad: tensor(-0.0042, device='cuda:0', grad_fn=<SubBackward0>)\n",
      "value grad tensor([-577790.3125], device='cuda:0', grad_fn=<SubBackward0>)\n",
      "\n",
      "Episode: 55/100 || Reward: 200.0  Steps: 762\n",
      "log grad: tensor(0.0013, device='cuda:0', grad_fn=<SubBackward0>)\n",
      "value grad tensor([-197496.0156], device='cuda:0', grad_fn=<SubBackward0>)\n",
      "\n",
      "Episode: 60/100 || Reward: 200.0  Steps: 753\n",
      "log grad: tensor(0.0014, device='cuda:0', grad_fn=<SubBackward0>)\n",
      "value grad tensor([-194119.2031], device='cuda:0', grad_fn=<SubBackward0>)\n",
      "\n",
      "Episode: 65/100 || Reward: 200.0  Steps: 766\n",
      "log grad: tensor(-0.0023, device='cuda:0', grad_fn=<SubBackward0>)\n",
      "value grad tensor([-488235.2812], device='cuda:0', grad_fn=<SubBackward0>)\n",
      "\n",
      "Episode: 70/100 || Reward: 200.0  Steps: 762\n",
      "log grad: tensor(-1.0539e-05, device='cuda:0', grad_fn=<SubBackward0>)\n",
      "value grad tensor([-327686.5625], device='cuda:0', grad_fn=<SubBackward0>)\n",
      "\n",
      "Episode: 75/100 || Reward: 200.0  Steps: 762\n",
      "log grad: tensor(0.0003, device='cuda:0', grad_fn=<SubBackward0>)\n",
      "value grad tensor([-292382.0625], device='cuda:0', grad_fn=<SubBackward0>)\n",
      "\n",
      "Episode: 80/100 || Reward: 200.0  Steps: 754\n",
      "log grad: tensor(-0.0009, device='cuda:0', grad_fn=<SubBackward0>)\n",
      "value grad tensor([-387239.1562], device='cuda:0', grad_fn=<SubBackward0>)\n",
      "\n",
      "Episode: 85/100 || Reward: 200.0  Steps: 751\n",
      "log grad: tensor(-0.0005, device='cuda:0', grad_fn=<SubBackward0>)\n",
      "value grad tensor([-354582.4688], device='cuda:0', grad_fn=<SubBackward0>)\n",
      "\n",
      "Episode: 90/100 || Reward: 200.0  Steps: 768\n",
      "log grad: tensor(-0.0005, device='cuda:0', grad_fn=<SubBackward0>)\n",
      "value grad tensor([-337905.0625], device='cuda:0', grad_fn=<SubBackward0>)\n",
      "\n",
      "Episode: 95/100 || Reward: 200.0  Steps: 756\n",
      "log grad: tensor(-0.0007, device='cuda:0', grad_fn=<SubBackward0>)\n",
      "value grad tensor([-333581.7812], device='cuda:0', grad_fn=<SubBackward0>)\n",
      "\n"
     ]
    }
   ],
   "source": [
    "for episode in range(n_episodes):\n",
    "    logs = []\n",
    "    rewards = []\n",
    "    values = []\n",
    "    state = torch.tensor(env.reset(), dtype=torch.float32).to(device)\n",
    "    for step in range(max_step):\n",
    "        policy = policy_net(state)\n",
    "        action = np.random.choice(np.arange(9), p=policy.cpu().detach().numpy())\n",
    "        log = torch.log(policy[action] + 1e-6)\n",
    "        #print(log)\n",
    "        logs.append(log)\n",
    "        value = value_net(state)\n",
    "        values.append(value)\n",
    "        state, reward, done, info = env.step(action)\n",
    "        state = torch.tensor(state, dtype=torch.float32).to(device)\n",
    "        \n",
    "        rewards.append(reward)\n",
    "        if done:\n",
    "            break\n",
    "    T = len(rewards)\n",
    "    #print(rewards[-1])\n",
    "    rewards = np.array(rewards)\n",
    "    total_rewards.append(rewards.sum())\n",
    "    \n",
    "    G = []\n",
    "    for t in range(T):\n",
    "        g = rewards[t:].sum() - values[t].cpu().detach().numpy()[0]\n",
    "        G.append(g)\n",
    "        \n",
    "    log_grads = 0\n",
    "    for log, g in zip(logs, G):\n",
    "        log_grads -= g * log\n",
    "        \n",
    "    value_grads = 0\n",
    "    for value, g in zip(values, G):\n",
    "        value_grads -= g * value\n",
    "    \n",
    "    policy_optimizer.zero_grad()\n",
    "    log_grads.to(device).backward(retain_graph=True)\n",
    "    policy_optimizer.step()\n",
    "    policy_scheduler.step()\n",
    "    \n",
    "    value_optimizer.zero_grad()\n",
    "    value_grads.to(device).backward()\n",
    "    value_optimizer.step()\n",
    "    value_scheduler.step()\n",
    "    \n",
    "    if not episode % freq:\n",
    "        print('Episode: {}/{} || Reward: {}  Steps: {}'.format(episode, n_episodes, total_rewards[-1], T))\n",
    "        print('log grad:', log_grads)\n",
    "        print('value grad', value_grads, end='\\n\\n')"
   ]
  },
  {
   "cell_type": "code",
   "execution_count": 29,
   "metadata": {},
   "outputs": [
    {
     "data": {
      "text/plain": [
       "[<matplotlib.lines.Line2D at 0x7fce87c41da0>]"
      ]
     },
     "execution_count": 29,
     "metadata": {},
     "output_type": "execute_result"
    },
    {
     "data": {
      "image/png": "[encoded data removed]",
      "text/plain": [
       "<Figure size 432x288 with 1 Axes>"
      ]
     },
     "metadata": {
      "needs_background": "light"
     },
     "output_type": "display_data"
    }
   ],
   "source": [
    "plt.plot(total_rewards)"
   ]
  },
  {
   "cell_type": "code",
   "execution_count": null,
   "metadata": {},
   "outputs": [],
   "source": []
  }
 ],
 "metadata": {
  "kernelspec": {
   "display_name": "Python 3",
   "language": "python",
   "name": "python3"
  },
  "language_info": {
   "codemirror_mode": {
    "name": "ipython",
    "version": 3
   },
   "file_extension": ".py",
   "mimetype": "text/x-python",
   "name": "python",
   "nbconvert_exporter": "python",
   "pygments_lexer": "ipython3",
   "version": "3.7.3"
  }
 },
 "nbformat": 4,
 "nbformat_minor": 2
}
