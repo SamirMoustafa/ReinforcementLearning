{
 "cells": [
  {
   "cell_type": "code",
   "execution_count": 1,
   "metadata": {},
   "outputs": [],
   "source": [
    "import gym\n",
    "import numpy as np\n",
    "import torch\n",
    "from torch import nn\n",
    "import matplotlib.pyplot as plt"
   ]
  },
  {
   "cell_type": "code",
   "execution_count": 2,
   "metadata": {},
   "outputs": [],
   "source": [
    "env = gym.make('Asterix-ram-v0')\n",
    "n_episodes = 100\n",
    "max_step = 2000\n",
    "eps = 0.001"
   ]
  },
  {
   "cell_type": "code",
   "execution_count": 10,
   "metadata": {},
   "outputs": [],
   "source": [
    "device = 'cuda:0'\n",
    "policy_net = nn.Sequential(\n",
    "                    #nn.Linear(128, 128),\n",
    "                    #nn.LeakyReLU(0.01),\n",
    "                    nn.Linear(128, 64),\n",
    "                    nn.LeakyReLU(0.01),\n",
    "                    nn.Linear(64, 9),\n",
    "                    nn.Softmax()\n",
    "                    )\n",
    "policy_net.to(device)\n",
    "policy_optimizer = torch.optim.Adam(policy_net.parameters(), lr=3e-3)\n",
    "policy_scheduler = torch.optim.lr_scheduler.StepLR(policy_optimizer, 5, gamma=0.95)\n",
    "\n",
    "critic_net = nn.Sequential(\n",
    "                    #nn.Linear(128, 128),\n",
    "                    #nn.LeakyReLU(0.01),\n",
    "                    nn.Linear(128, 64),\n",
    "                    nn.LeakyReLU(0.01),\n",
    "                    nn.Linear(64, 1)\n",
    "                    )\n",
    "critic_net.to(device)\n",
    "critic_optimizer = torch.optim.Adam(critic_net.parameters(), lr=3e-3)\n",
    "critic_scheduler = torch.optim.lr_scheduler.StepLR(critic_optimizer, 5, gamma=0.95)"
   ]
  },
  {
   "cell_type": "code",
   "execution_count": 11,
   "metadata": {},
   "outputs": [],
   "source": [
    "total_rewards = []\n",
    "freq = max(n_episodes // 20, 1)"
   ]
  },
  {
   "cell_type": "code",
   "execution_count": 12,
   "metadata": {},
   "outputs": [
    {
     "name": "stdout",
     "output_type": "stream",
     "text": [
      "Episode: 0/100 || Reward: 600.0  Steps: 1792\n",
      "log grad: tensor(13.2050, device='cuda:0', grad_fn=<SubBackward0>)\n",
      "value grad tensor([16097.4121], device='cuda:0', grad_fn=<SubBackward0>)\n",
      "\n",
      "Episode: 5/100 || Reward: 650.0  Steps: 1921\n",
      "log grad: tensor(-0.0006, device='cuda:0', grad_fn=<SubBackward0>)\n",
      "value grad tensor([-61408.0625], device='cuda:0', grad_fn=<SubBackward0>)\n",
      "\n",
      "Episode: 10/100 || Reward: 650.0  Steps: 1962\n",
      "log grad: tensor(-0.0005, device='cuda:0', grad_fn=<SubBackward0>)\n",
      "value grad tensor([-115482.5938], device='cuda:0', grad_fn=<SubBackward0>)\n",
      "\n",
      "Episode: 15/100 || Reward: 650.0  Steps: 1924\n",
      "log grad: tensor(-0.0004, device='cuda:0', grad_fn=<SubBackward0>)\n",
      "value grad tensor([-127659.8750], device='cuda:0', grad_fn=<SubBackward0>)\n",
      "\n",
      "Episode: 20/100 || Reward: 650.0  Steps: 1923\n",
      "log grad: tensor(-0.0002, device='cuda:0', grad_fn=<SubBackward0>)\n",
      "value grad tensor([-67500.8750], device='cuda:0', grad_fn=<SubBackward0>)\n",
      "\n",
      "Episode: 25/100 || Reward: 650.0  Steps: 1934\n",
      "log grad: tensor(-9.2767e-05, device='cuda:0', grad_fn=<SubBackward0>)\n",
      "value grad tensor([37183.2500], device='cuda:0', grad_fn=<SubBackward0>)\n",
      "\n",
      "Episode: 30/100 || Reward: 650.0  Steps: 1935\n",
      "log grad: tensor(1.2985e-05, device='cuda:0', grad_fn=<SubBackward0>)\n",
      "value grad tensor([110338.6875], device='cuda:0', grad_fn=<SubBackward0>)\n",
      "\n",
      "Episode: 35/100 || Reward: 650.0  Steps: 1943\n",
      "log grad: tensor(4.8137e-05, device='cuda:0', grad_fn=<SubBackward0>)\n",
      "value grad tensor([109082.4375], device='cuda:0', grad_fn=<SubBackward0>)\n",
      "\n",
      "Episode: 40/100 || Reward: 650.0  Steps: 1903\n",
      "log grad: tensor(2.7505e-05, device='cuda:0', grad_fn=<SubBackward0>)\n",
      "value grad tensor([60974.7500], device='cuda:0', grad_fn=<SubBackward0>)\n",
      "\n",
      "Episode: 45/100 || Reward: 650.0  Steps: 1923\n",
      "log grad: tensor(-1.0680e-05, device='cuda:0', grad_fn=<SubBackward0>)\n",
      "value grad tensor([10528.0938], device='cuda:0', grad_fn=<SubBackward0>)\n",
      "\n",
      "Episode: 50/100 || Reward: 650.0  Steps: 1922\n",
      "log grad: tensor(-3.5713e-05, device='cuda:0', grad_fn=<SubBackward0>)\n",
      "value grad tensor([-22917.7500], device='cuda:0', grad_fn=<SubBackward0>)\n",
      "\n",
      "Episode: 55/100 || Reward: 650.0  Steps: 1946\n",
      "log grad: tensor(-3.5499e-05, device='cuda:0', grad_fn=<SubBackward0>)\n",
      "value grad tensor([-33829.7188], device='cuda:0', grad_fn=<SubBackward0>)\n",
      "\n",
      "Episode: 60/100 || Reward: 650.0  Steps: 1942\n",
      "log grad: tensor(-1.4530e-05, device='cuda:0', grad_fn=<SubBackward0>)\n",
      "value grad tensor([-28456.7188], device='cuda:0', grad_fn=<SubBackward0>)\n",
      "\n",
      "Episode: 65/100 || Reward: 650.0  Steps: 1947\n",
      "log grad: tensor(1.3566e-05, device='cuda:0', grad_fn=<SubBackward0>)\n",
      "value grad tensor([-11169.8125], device='cuda:0', grad_fn=<SubBackward0>)\n",
      "\n",
      "Episode: 70/100 || Reward: 650.0  Steps: 1928\n",
      "log grad: tensor(3.2840e-05, device='cuda:0', grad_fn=<SubBackward0>)\n",
      "value grad tensor([2604.0625], device='cuda:0', grad_fn=<SubBackward0>)\n",
      "\n",
      "Episode: 75/100 || Reward: 650.0  Steps: 1944\n",
      "log grad: tensor(3.5691e-05, device='cuda:0', grad_fn=<SubBackward0>)\n",
      "value grad tensor([9159.9062], device='cuda:0', grad_fn=<SubBackward0>)\n",
      "\n",
      "Episode: 80/100 || Reward: 650.0  Steps: 1930\n",
      "log grad: tensor(2.4364e-05, device='cuda:0', grad_fn=<SubBackward0>)\n",
      "value grad tensor([11513.7500], device='cuda:0', grad_fn=<SubBackward0>)\n",
      "\n",
      "Episode: 85/100 || Reward: 650.0  Steps: 1942\n",
      "log grad: tensor(7.0454e-06, device='cuda:0', grad_fn=<SubBackward0>)\n",
      "value grad tensor([5858.1250], device='cuda:0', grad_fn=<SubBackward0>)\n",
      "\n",
      "Episode: 90/100 || Reward: 650.0  Steps: 1946\n",
      "log grad: tensor(-7.1628e-06, device='cuda:0', grad_fn=<SubBackward0>)\n",
      "value grad tensor([-2094.1875], device='cuda:0', grad_fn=<SubBackward0>)\n",
      "\n",
      "Episode: 95/100 || Reward: 650.0  Steps: 1931\n",
      "log grad: tensor(-1.3232e-05, device='cuda:0', grad_fn=<SubBackward0>)\n",
      "value grad tensor([-6580.8125], device='cuda:0', grad_fn=<SubBackward0>)\n",
      "\n"
     ]
    }
   ],
   "source": [
    "for episode in range(n_episodes):\n",
    "    logs = []\n",
    "    rewards = []\n",
    "    values = []\n",
    "    state = torch.tensor(env.reset(), dtype=torch.float32).to(device)\n",
    "    for step in range(max_step):\n",
    "        policy = policy_net(state)\n",
    "        action = np.random.choice(np.arange(9), p=policy.cpu().detach().numpy())\n",
    "        log = torch.log(policy[action] + 1e-6)\n",
    "        logs.append(log)\n",
    "        value = critic_net(state)\n",
    "        values.append(value)\n",
    "        state, reward, done, info = env.step(action)\n",
    "        state = torch.tensor(state, dtype=torch.float32).to(device)\n",
    "        rewards.append(reward)\n",
    "        if done:\n",
    "            break\n",
    "    T = len(rewards)\n",
    "    #print(rewards[-1])\n",
    "    total_rewards.append(np.sum(rewards))\n",
    "    values.append(torch.tensor([0], dtype=torch.float32))\n",
    "    G = []\n",
    "    for t in range(T):\n",
    "        g = rewards[t] + values[t + 1].cpu().detach().numpy()[0] - values[t].cpu().detach().numpy()[0]\n",
    "        G.append(g)\n",
    "        \n",
    "    log_grads = 0\n",
    "    for log, g in zip(logs, G):\n",
    "        log_grads -= g * log\n",
    "        \n",
    "    value_grads = 0\n",
    "    for value, g in zip(values, G):\n",
    "        value_grads -= g * value\n",
    "    \n",
    "    policy_optimizer.zero_grad()\n",
    "    log_grads.to(device).backward(retain_graph=True)\n",
    "    policy_optimizer.step()\n",
    "    policy_scheduler.step()\n",
    "    \n",
    "    critic_optimizer.zero_grad()\n",
    "    value_grads.to(device).backward()\n",
    "    critic_optimizer.step()\n",
    "    value_scheduler.step()\n",
    "    \n",
    "    if not episode % freq:\n",
    "        print('Episode: {}/{} || Reward: {}  Steps: {}'.format(episode, n_episodes, total_rewards[-1], T))\n",
    "        print('log grad:', log_grads)\n",
    "        print('value grad', value_grads, end='\\n\\n')"
   ]
  },
  {
   "cell_type": "code",
   "execution_count": 15,
   "metadata": {},
   "outputs": [
    {
     "data": {
      "image/png": "[encoded data removed]",
      "text/plain": [
       "<Figure size 432x288 with 1 Axes>"
      ]
     },
     "metadata": {
      "needs_background": "light"
     },
     "output_type": "display_data"
    }
   ],
   "source": [
    "plt.plot(total_rewards);"
   ]
  },
  {
   "cell_type": "code",
   "execution_count": null,
   "metadata": {},
   "outputs": [],
   "source": []
  }
 ],
 "metadata": {
  "kernelspec": {
   "display_name": "Python 3",
   "language": "python",
   "name": "python3"
  },
  "language_info": {
   "codemirror_mode": {
    "name": "ipython",
    "version": 3
   },
   "file_extension": ".py",
   "mimetype": "text/x-python",
   "name": "python",
   "nbconvert_exporter": "python",
   "pygments_lexer": "ipython3",
   "version": "3.7.3"
  }
 },
 "nbformat": 4,
 "nbformat_minor": 2
}
