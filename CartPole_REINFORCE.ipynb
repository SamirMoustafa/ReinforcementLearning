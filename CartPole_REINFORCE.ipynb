{
 "cells": [
  {
   "cell_type": "code",
   "execution_count": 1,
   "metadata": {},
   "outputs": [],
   "source": [
    "import gym\n",
    "import numpy as np\n",
    "import torch\n",
    "from torch import nn\n",
    "import matplotlib.pyplot as plt"
   ]
  },
  {
   "cell_type": "code",
   "execution_count": 9,
   "metadata": {},
   "outputs": [],
   "source": [
    "env = gym.make('CartPole-v0')\n",
    "gamma = 1\n",
    "n_episodes = 2000\n",
    "max_step = 1000\n",
    "eps = 0.0001\n",
    "gamma_pwr = gamma ** np.arange(max_step)"
   ]
  },
  {
   "cell_type": "code",
   "execution_count": 10,
   "metadata": {},
   "outputs": [],
   "source": [
    "device = 'cuda:0'\n",
    "net = nn.Sequential(\n",
    "                    #nn.Linear(128, 128),\n",
    "                    #nn.LeakyReLU(0.01),\n",
    "                    nn.Linear(4, 64),\n",
    "                    nn.LeakyReLU(0.01),\n",
    "                    nn.Linear(64, 2),\n",
    "                    nn.Softmax()\n",
    "                    )\n",
    "net.to(device)\n",
    "optimizer = torch.optim.Adam(net.parameters(), lr=3e-3)\n",
    "scheduler = torch.optim.lr_scheduler.StepLR(optimizer, 5, gamma=0.95)"
   ]
  },
  {
   "cell_type": "code",
   "execution_count": 11,
   "metadata": {},
   "outputs": [],
   "source": [
    "total_rewards = []\n",
    "freq = max(n_episodes // 20, 1)"
   ]
  },
  {
   "cell_type": "code",
   "execution_count": 12,
   "metadata": {},
   "outputs": [
    {
     "name": "stdout",
     "output_type": "stream",
     "text": [
      "Episode: 0/2000 || Reward: 17.0  Steps: 17\n",
      "grad: tensor(112.5616, device='cuda:0', grad_fn=<SubBackward0>)\n",
      "Episode: 100/2000 || Reward: 35.0  Steps: 35\n",
      "grad: tensor(423.4278, device='cuda:0', grad_fn=<SubBackward0>)\n",
      "Episode: 200/2000 || Reward: 41.0  Steps: 41\n",
      "grad: tensor(514.0794, device='cuda:0', grad_fn=<SubBackward0>)\n",
      "Episode: 300/2000 || Reward: 59.0  Steps: 59\n",
      "grad: tensor(980.8080, device='cuda:0', grad_fn=<SubBackward0>)\n",
      "Episode: 400/2000 || Reward: 94.0  Steps: 94\n",
      "grad: tensor(2647.7998, device='cuda:0', grad_fn=<SubBackward0>)\n",
      "Episode: 500/2000 || Reward: 39.0  Steps: 39\n",
      "grad: tensor(475.2009, device='cuda:0', grad_fn=<SubBackward0>)\n",
      "Episode: 600/2000 || Reward: 68.0  Steps: 68\n",
      "grad: tensor(1276.7083, device='cuda:0', grad_fn=<SubBackward0>)\n",
      "Episode: 700/2000 || Reward: 48.0  Steps: 48\n",
      "grad: tensor(743.3273, device='cuda:0', grad_fn=<SubBackward0>)\n",
      "Episode: 800/2000 || Reward: 48.0  Steps: 48\n",
      "grad: tensor(734.3997, device='cuda:0', grad_fn=<SubBackward0>)\n",
      "Episode: 900/2000 || Reward: 64.0  Steps: 64\n",
      "grad: tensor(1205.8638, device='cuda:0', grad_fn=<SubBackward0>)\n",
      "Episode: 1000/2000 || Reward: 84.0  Steps: 84\n",
      "grad: tensor(2060.2148, device='cuda:0', grad_fn=<SubBackward0>)\n",
      "Episode: 1100/2000 || Reward: 57.0  Steps: 57\n",
      "grad: tensor(949.7303, device='cuda:0', grad_fn=<SubBackward0>)\n",
      "Episode: 1200/2000 || Reward: 99.0  Steps: 99\n",
      "grad: tensor(2802.9944, device='cuda:0', grad_fn=<SubBackward0>)\n",
      "Episode: 1300/2000 || Reward: 92.0  Steps: 92\n",
      "grad: tensor(2633.8030, device='cuda:0', grad_fn=<SubBackward0>)\n",
      "Episode: 1400/2000 || Reward: 34.0  Steps: 34\n",
      "grad: tensor(349.4200, device='cuda:0', grad_fn=<SubBackward0>)\n",
      "Episode: 1500/2000 || Reward: 103.0  Steps: 103\n",
      "grad: tensor(3060.3337, device='cuda:0', grad_fn=<SubBackward0>)\n",
      "Episode: 1600/2000 || Reward: 67.0  Steps: 67\n",
      "grad: tensor(1368.9851, device='cuda:0', grad_fn=<SubBackward0>)\n",
      "Episode: 1700/2000 || Reward: 108.0  Steps: 108\n",
      "grad: tensor(3459.5857, device='cuda:0', grad_fn=<SubBackward0>)\n",
      "Episode: 1800/2000 || Reward: 43.0  Steps: 43\n",
      "grad: tensor(531.5845, device='cuda:0', grad_fn=<SubBackward0>)\n",
      "Episode: 1900/2000 || Reward: 36.0  Steps: 36\n",
      "grad: tensor(402.5356, device='cuda:0', grad_fn=<SubBackward0>)\n"
     ]
    }
   ],
   "source": [
    "for episode in range(n_episodes):\n",
    "    state = torch.tensor(env.reset(), dtype=torch.float32).to(device)\n",
    "    logs = []\n",
    "    rewards = []\n",
    "    for step in range(max_step):\n",
    "        policy = net(state)\n",
    "        #if step % 1000 == 0:\n",
    "        #    print('max policy:', max(policy))\n",
    "        q = np.random.choice(np.arange(2), p=[eps, 1 - eps])\n",
    "        if q:\n",
    "            action = np.random.choice(np.arange(2), p=policy.cpu().detach().numpy())\n",
    "        else:\n",
    "            action = np.random.randint(2)\n",
    "        log = torch.log(policy[action] + 1e-6)\n",
    "        #print(log)\n",
    "        logs.append(log)\n",
    "        state, reward, done, info = env.step(action)\n",
    "        state = torch.tensor(state, dtype=torch.float32).to(device)\n",
    "        \n",
    "        rewards.append(reward)\n",
    "        if done:\n",
    "            break\n",
    "    T = len(rewards)\n",
    "    #print(rewards[-1])\n",
    "    rewards = np.array(rewards)\n",
    "    total_rewards.append(rewards.sum())\n",
    "    G = []\n",
    "    for t in range(T):\n",
    "        g = (gamma_pwr[t:T] * rewards[t:]).sum()\n",
    "        G.append(g)\n",
    "    grads = 0\n",
    "    for log, g in zip(logs, G):\n",
    "        grads -= g * log\n",
    "    \n",
    "    optimizer.zero_grad()\n",
    "    grads.to(device).backward()\n",
    "    optimizer.step()\n",
    "    scheduler.step()\n",
    "    if not episode % freq:\n",
    "        print('Episode: {}/{} || Reward: {}  Steps: {}'.format(episode, n_episodes, total_rewards[-1], T))\n",
    "        print('grad:', grads)"
   ]
  },
  {
   "cell_type": "code",
   "execution_count": 14,
   "metadata": {},
   "outputs": [],
   "source": [
    "avg_rewards = [np.mean(total_rewards[t-10:t]) for t in range(10, len(total_rewards))]"
   ]
  },
  {
   "cell_type": "code",
   "execution_count": 15,
   "metadata": {},
   "outputs": [
    {
     "data": {
      "image/png": "[encoded data removed]",
      "text/plain": [
       "<Figure size 432x288 with 1 Axes>"
      ]
     },
     "metadata": {
      "needs_background": "light"
     },
     "output_type": "display_data"
    }
   ],
   "source": [
    "plt.plot(total_rewards)\n",
    "plt.plot(avg_rewards);"
   ]
  },
  {
   "cell_type": "code",
   "execution_count": 7,
   "metadata": {},
   "outputs": [
    {
     "data": {
      "text/plain": [
       "22.5735"
      ]
     },
     "execution_count": 7,
     "metadata": {},
     "output_type": "execute_result"
    }
   ],
   "source": [
    "np.mean(total_rewards)"
   ]
  },
  {
   "cell_type": "code",
   "execution_count": 8,
   "metadata": {},
   "outputs": [
    {
     "data": {
      "text/plain": [
       "Parameter containing:\n",
       "tensor([[-4.1884e-01, -1.8878e-01,  2.9753e-01, -3.7368e-01],\n",
       "        [ 4.6705e-01,  4.0870e-01,  1.4038e-01, -2.1464e-02],\n",
       "        [ 1.2787e-01,  4.7567e-01,  7.7610e-02,  4.1112e-01],\n",
       "        [-4.0212e-01, -2.4884e-01,  4.9184e-01, -1.1909e-01],\n",
       "        [ 2.5931e-01, -7.4385e-02, -4.5156e-01,  1.2345e-01],\n",
       "        [-3.7395e-01,  1.7197e-01, -3.6769e-01,  7.7291e-02],\n",
       "        [ 3.4639e-01, -2.9881e-01,  3.9714e-02, -2.5525e-01],\n",
       "        [ 4.3013e-01, -1.5760e-01, -1.5541e-01,  2.9734e-01],\n",
       "        [ 3.6142e-01, -3.5953e-01, -3.7495e-02, -3.9697e-01],\n",
       "        [ 3.1170e-01, -3.2689e-01,  7.0229e-03, -4.6546e-01],\n",
       "        [-1.7376e-01, -1.2578e-01,  5.2074e-01, -2.2207e-01],\n",
       "        [ 7.2147e-02,  5.4760e-02,  2.0302e-01, -2.0425e-01],\n",
       "        [-4.6088e-01, -1.7145e-01,  1.7742e-01, -7.7423e-02],\n",
       "        [ 2.3912e-01, -1.8511e-01,  3.0443e-01, -4.2147e-01],\n",
       "        [-2.1130e-01,  5.2469e-02,  2.1838e-02, -4.8288e-01],\n",
       "        [ 2.3506e-01,  7.8276e-02, -3.9278e-01, -2.4413e-01],\n",
       "        [ 4.7617e-01,  1.4067e-01, -2.3836e-01,  3.5100e-01],\n",
       "        [-6.2641e-02,  2.1940e-01,  3.4507e-01,  6.3503e-02],\n",
       "        [-3.8318e-02, -4.8470e-01, -3.2409e-01,  9.8718e-02],\n",
       "        [-4.5472e-01,  4.4353e-01,  2.3381e-01, -3.4772e-01],\n",
       "        [-1.6600e-01, -2.8457e-01, -1.9180e-01, -3.5123e-01],\n",
       "        [-4.8631e-01, -3.3964e-01,  3.0374e-01,  4.0668e-01],\n",
       "        [ 2.1320e-04,  2.4044e-01,  1.8725e-01, -1.6817e-01],\n",
       "        [ 2.3421e-01, -4.8866e-02, -7.3978e-02,  1.0221e-01],\n",
       "        [ 1.7257e-01,  9.3187e-02, -2.7047e-01, -2.2262e-01],\n",
       "        [ 3.3286e-01,  1.0332e-01, -1.2731e-01,  1.1641e-01],\n",
       "        [ 2.7248e-01,  2.8953e-01, -5.0560e-01, -2.7453e-01],\n",
       "        [ 1.1713e-01,  1.0564e-01,  2.4486e-01, -1.7214e-01],\n",
       "        [-3.5624e-01, -4.1617e-01, -3.4148e-01,  2.8480e-01],\n",
       "        [ 3.1442e-01, -2.1747e-01, -5.8966e-02, -1.7404e-01],\n",
       "        [-2.1188e-01,  4.6849e-01,  2.7340e-01, -2.3637e-01],\n",
       "        [ 4.9297e-01, -4.7023e-01, -4.2471e-01,  2.8412e-01],\n",
       "        [ 1.5668e-01, -2.9941e-01,  4.0802e-01,  4.1095e-01],\n",
       "        [ 2.6284e-01, -9.2433e-02,  3.6415e-01, -1.2325e-01],\n",
       "        [ 9.9234e-02, -2.3615e-01,  3.1757e-01, -1.7391e-01],\n",
       "        [ 1.7389e-01, -1.0763e-02,  3.7532e-01, -1.9064e-01],\n",
       "        [-2.1180e-01, -2.9805e-02, -1.4756e-01, -1.1653e-01],\n",
       "        [ 4.5858e-01,  1.0995e-01,  1.0720e-01,  3.3147e-01],\n",
       "        [-9.5735e-03, -3.8213e-01, -2.2681e-01,  2.8979e-01],\n",
       "        [ 7.7862e-02, -8.2572e-02,  4.0305e-01,  1.1311e-01],\n",
       "        [ 1.2483e-01, -2.1387e-01, -2.9976e-01,  3.3488e-01],\n",
       "        [ 1.4922e-01,  3.4689e-02, -1.4834e-01, -2.6381e-02],\n",
       "        [ 3.3738e-01,  4.7342e-01, -2.9839e-01, -2.1717e-01],\n",
       "        [-1.0813e-01, -4.4921e-01,  9.8819e-02,  4.4831e-01],\n",
       "        [-4.7340e-01,  3.7136e-01,  3.7464e-01, -4.2394e-01],\n",
       "        [ 9.6297e-02,  3.0303e-01,  9.5047e-02, -1.6267e-01],\n",
       "        [-2.1911e-01, -2.8211e-01, -4.6292e-01,  1.3983e-01],\n",
       "        [-2.9554e-01,  8.9740e-02,  3.9335e-01,  3.6373e-01],\n",
       "        [ 2.0768e-02, -1.8354e-01, -4.3889e-01,  3.4114e-01],\n",
       "        [-2.3775e-01,  1.9753e-02,  2.6302e-01, -3.5679e-01],\n",
       "        [-4.4034e-01,  4.4689e-01, -3.7717e-02, -5.2310e-01],\n",
       "        [ 4.9974e-02, -2.0050e-01, -4.5562e-02, -1.3322e-01],\n",
       "        [ 1.5026e-01, -2.0166e-02,  1.1815e-01,  3.8551e-01],\n",
       "        [ 2.3805e-02,  9.6172e-02, -4.9243e-01,  7.2557e-02],\n",
       "        [ 3.5458e-01, -3.8205e-02,  4.4619e-01, -4.0939e-01],\n",
       "        [-3.9337e-01, -3.2261e-01, -4.2679e-01, -6.4168e-02],\n",
       "        [-2.4713e-01,  1.5219e-01, -1.8376e-01,  4.4657e-01],\n",
       "        [ 9.2751e-02,  2.5948e-01, -4.4405e-01,  4.7343e-01],\n",
       "        [-3.9582e-01, -3.5319e-01, -3.8184e-01,  4.5624e-01],\n",
       "        [-4.5808e-01,  6.3690e-02,  2.5450e-01, -2.8784e-01],\n",
       "        [-2.7733e-01,  1.2175e-01, -4.8441e-01, -4.8505e-02],\n",
       "        [ 4.9782e-01, -2.7535e-01,  1.5381e-01, -3.1801e-01],\n",
       "        [-1.1679e-01, -2.4936e-01, -4.2494e-01,  2.2329e-01],\n",
       "        [-2.3730e-01,  1.4883e-01, -1.2709e-01, -3.3012e-01]], device='cuda:0',\n",
       "       requires_grad=True)"
      ]
     },
     "execution_count": 8,
     "metadata": {},
     "output_type": "execute_result"
    }
   ],
   "source": [
    "next(net.parameters())"
   ]
  },
  {
   "cell_type": "code",
   "execution_count": null,
   "metadata": {},
   "outputs": [],
   "source": []
  }
 ],
 "metadata": {
  "kernelspec": {
   "display_name": "Python 3",
   "language": "python",
   "name": "python3"
  },
  "language_info": {
   "codemirror_mode": {
    "name": "ipython",
    "version": 3
   },
   "file_extension": ".py",
   "mimetype": "text/x-python",
   "name": "python",
   "nbconvert_exporter": "python",
   "pygments_lexer": "ipython3",
   "version": "3.7.3"
  }
 },
 "nbformat": 4,
 "nbformat_minor": 2
}
